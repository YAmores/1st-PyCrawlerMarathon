{
 "cells": [
  {
   "cell_type": "markdown",
   "metadata": {},
   "source": [
    "# 其他工具：Grab、PyQuery\n",
    "\n",
    "\n",
    "* 利用 Grab 套件的存取 HTML 資源\n",
    "* 利用 PyQuery 套件的解析 HTML 格式\n"
   ]
  },
  {
   "cell_type": "markdown",
   "metadata": {},
   "source": [
    "## 作業目標\n",
    "\n",
    "將之前用 requests + beatifulsoup 實作的方式，改寫成 grab + pyquery，並且比較有哪些地方不同。\n",
    "\n",
    "\n",
    "\n"
   ]
  },
  {
   "cell_type": "markdown",
   "metadata": {},
   "source": [
    "## requests + BeautifulSoup\n"
   ]
  },
  {
   "cell_type": "code",
   "execution_count": 12,
   "metadata": {},
   "outputs": [],
   "source": [
    "'''\n",
    "Your Code\n",
    "'''\n",
    "import requests\n",
    "from bs4 import BeautifulSoup\n",
    "\n",
    "url = 'https://google.com'\n",
    "r = requests.get(url)\n",
    "soup = BeautifulSoup(r.text)\n",
    "#print(soup)"
   ]
  },
  {
   "cell_type": "markdown",
   "metadata": {},
   "source": [
    "## Grab + PyQuery"
   ]
  },
  {
   "cell_type": "code",
   "execution_count": 7,
   "metadata": {},
   "outputs": [
    {
     "name": "stdout",
     "output_type": "stream",
     "text": [
      "Requirement already satisfied: grab in /opt/anaconda3/lib/python3.7/site-packages (0.6.41)\n",
      "Requirement already satisfied: user-agent in /opt/anaconda3/lib/python3.7/site-packages (from grab) (0.1.9)\n",
      "Requirement already satisfied: six in /opt/anaconda3/lib/python3.7/site-packages (from grab) (1.13.0)\n",
      "Requirement already satisfied: selection in /opt/anaconda3/lib/python3.7/site-packages (from grab) (0.0.14)\n",
      "Requirement already satisfied: weblib>=0.1.28 in /opt/anaconda3/lib/python3.7/site-packages (from grab) (0.1.30)\n",
      "Requirement already satisfied: lxml; platform_system != \"Windows\" in /opt/anaconda3/lib/python3.7/site-packages (from grab) (4.4.2)\n",
      "Requirement already satisfied: pycurl<7.43.0.2; platform_system != \"Windows\" in /opt/anaconda3/lib/python3.7/site-packages (from grab) (7.43.0.1)\n",
      "Requirement already satisfied: defusedxml in /opt/anaconda3/lib/python3.7/site-packages (from grab) (0.6.0)\n",
      "Requirement already satisfied: pytils in /opt/anaconda3/lib/python3.7/site-packages (from weblib>=0.1.28->grab) (0.3)\n"
     ]
    }
   ],
   "source": [
    "!pip install grab"
   ]
  },
  {
   "cell_type": "code",
   "execution_count": 8,
   "metadata": {},
   "outputs": [],
   "source": [
    "import logging"
   ]
  },
  {
   "cell_type": "code",
   "execution_count": 11,
   "metadata": {
    "scrolled": false
   },
   "outputs": [
    {
     "data": {
      "text/plain": [
       "<grab.document.Document at 0x1095f9b90>"
      ]
     },
     "execution_count": 11,
     "metadata": {},
     "output_type": "execute_result"
    }
   ],
   "source": [
    "'''\n",
    "Your Code\n",
    "'''\n",
    "from grab import Grab\n",
    "from pyquery import PyQuery as pq\n",
    "\n",
    "g = Grab()\n",
    "resp = g.go(url)\n",
    "resp"
   ]
  }
 ],
 "metadata": {
  "kernelspec": {
   "display_name": "Python 3",
   "language": "python",
   "name": "python3"
  },
  "language_info": {
   "codemirror_mode": {
    "name": "ipython",
    "version": 3
   },
   "file_extension": ".py",
   "mimetype": "text/x-python",
   "name": "python",
   "nbconvert_exporter": "python",
   "pygments_lexer": "ipython3",
   "version": "3.7.4"
  }
 },
 "nbformat": 4,
 "nbformat_minor": 2
}
