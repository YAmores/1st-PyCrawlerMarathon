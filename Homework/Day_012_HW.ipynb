{
 "cells": [
  {
   "cell_type": "markdown",
   "metadata": {},
   "source": [
    "# Ettoday 網路爬蟲實作練習\n",
    "\n",
    "\n",
    "* 能夠利用 Request + BeatifulSour 撰寫爬蟲，並存放到合適的資料結構\n"
   ]
  },
  {
   "cell_type": "markdown",
   "metadata": {},
   "source": [
    "## 作業目標\n",
    "\n",
    "根據範例 ，完成以下問題：\n",
    "\n",
    "* ① 取出今天所有的發文\n",
    "* ② 如果想要依照類別分類，怎麼儲存會比較好？\n",
    "* ③ 哪一個類別的文章最多\n",
    "\n",
    "\n"
   ]
  },
  {
   "cell_type": "markdown",
   "metadata": {},
   "source": [
    "### ① 取出今天所有的發文"
   ]
  },
  {
   "cell_type": "code",
   "execution_count": 2,
   "metadata": {
    "scrolled": false
   },
   "outputs": [
    {
     "data": {
      "text/html": [
       "<div>\n",
       "<style scoped>\n",
       "    .dataframe tbody tr th:only-of-type {\n",
       "        vertical-align: middle;\n",
       "    }\n",
       "\n",
       "    .dataframe tbody tr th {\n",
       "        vertical-align: top;\n",
       "    }\n",
       "\n",
       "    .dataframe thead th {\n",
       "        text-align: right;\n",
       "    }\n",
       "</style>\n",
       "<table border=\"1\" class=\"dataframe\">\n",
       "  <thead>\n",
       "    <tr style=\"text-align: right;\">\n",
       "      <th></th>\n",
       "      <th>time</th>\n",
       "      <th>title</th>\n",
       "    </tr>\n",
       "  </thead>\n",
       "  <tbody>\n",
       "    <tr>\n",
       "      <td>0</td>\n",
       "      <td>2019/12/11 11:08</td>\n",
       "      <td>白藝潾掰了JYP後首出輯橫掃榜單！　「《SQUARE》創韓樂史第一人紀錄」坦承：需要很大的勇氣</td>\n",
       "    </tr>\n",
       "    <tr>\n",
       "      <td>1</td>\n",
       "      <td>2019/12/11 11:08</td>\n",
       "      <td>反送中首宗暴動罪明年初開審　2嫌犯「逃往台灣」至今缺席</td>\n",
       "    </tr>\n",
       "    <tr>\n",
       "      <td>2</td>\n",
       "      <td>2019/12/11 11:08</td>\n",
       "      <td>長照一條龍！家中老人生病免擔憂　出院到回家服務接軌無死角</td>\n",
       "    </tr>\n",
       "    <tr>\n",
       "      <td>3</td>\n",
       "      <td>2019/12/11 11:07</td>\n",
       "      <td>iPhone 11系列用戶回報GPS應用程式出問題　Strava工程師說是蘋果的問題</td>\n",
       "    </tr>\n",
       "    <tr>\n",
       "      <td>4</td>\n",
       "      <td>2019/12/11 11:05</td>\n",
       "      <td>時間記好！「澎湖、金門」第2波春節加班機來了　12/17統一開賣</td>\n",
       "    </tr>\n",
       "  </tbody>\n",
       "</table>\n",
       "</div>"
      ],
      "text/plain": [
       "               time                                            title\n",
       "0  2019/12/11 11:08  白藝潾掰了JYP後首出輯橫掃榜單！　「《SQUARE》創韓樂史第一人紀錄」坦承：需要很大的勇氣\n",
       "1  2019/12/11 11:08                      反送中首宗暴動罪明年初開審　2嫌犯「逃往台灣」至今缺席\n",
       "2  2019/12/11 11:08                     長照一條龍！家中老人生病免擔憂　出院到回家服務接軌無死角\n",
       "3  2019/12/11 11:07       iPhone 11系列用戶回報GPS應用程式出問題　Strava工程師說是蘋果的問題\n",
       "4  2019/12/11 11:05                 時間記好！「澎湖、金門」第2波春節加班機來了　12/17統一開賣"
      ]
     },
     "execution_count": 2,
     "metadata": {},
     "output_type": "execute_result"
    }
   ],
   "source": [
    "'''\n",
    "Your Code\n",
    "'''\n",
    "import requests\n",
    "from bs4 import BeautifulSoup\n",
    "import re\n",
    "import pandas as pd\n",
    "\n",
    "url = 'https://www.ettoday.net/news/news-list.htm'\n",
    "r = requests.get(url)\n",
    "soup = BeautifulSoup(r.text)\n",
    "\n",
    "regex = '2019/12/11'\n",
    "pattern = re.compile(regex)\n",
    "\n",
    "list1 = []\n",
    "list2 = []\n",
    "\n",
    "for d in soup.find(class_='part_list_2').find_all('h3'):\n",
    "    result = re.search(pattern, d.find(class_='date').text)\n",
    "    if result:\n",
    "        list1.append(d.find(class_='date').text)\n",
    "        list2.append(d.find_all('a')[-1].text)\n",
    "\n",
    "p = pd.DataFrame(list(zip(list1, list2)), columns=['time', 'title'])\n",
    "p.head()"
   ]
  },
  {
   "cell_type": "markdown",
   "metadata": {},
   "source": [
    "### ② 如果想要依照類別分類，怎麼儲存會比較好？"
   ]
  },
  {
   "cell_type": "code",
   "execution_count": 3,
   "metadata": {},
   "outputs": [
    {
     "data": {
      "text/html": [
       "<div>\n",
       "<style scoped>\n",
       "    .dataframe tbody tr th:only-of-type {\n",
       "        vertical-align: middle;\n",
       "    }\n",
       "\n",
       "    .dataframe tbody tr th {\n",
       "        vertical-align: top;\n",
       "    }\n",
       "\n",
       "    .dataframe thead th {\n",
       "        text-align: right;\n",
       "    }\n",
       "</style>\n",
       "<table border=\"1\" class=\"dataframe\">\n",
       "  <thead>\n",
       "    <tr style=\"text-align: right;\">\n",
       "      <th></th>\n",
       "      <th>Time</th>\n",
       "      <th>Tag</th>\n",
       "      <th>Title</th>\n",
       "    </tr>\n",
       "  </thead>\n",
       "  <tbody>\n",
       "    <tr>\n",
       "      <td>0</td>\n",
       "      <td>2019/12/11 11:08</td>\n",
       "      <td>影劇</td>\n",
       "      <td>白藝潾掰了JYP後首出輯橫掃榜單！　「《SQUARE》創韓樂史第一人紀錄」坦承：需要很大的勇氣</td>\n",
       "    </tr>\n",
       "    <tr>\n",
       "      <td>1</td>\n",
       "      <td>2019/12/11 11:08</td>\n",
       "      <td>大陸</td>\n",
       "      <td>反送中首宗暴動罪明年初開審　2嫌犯「逃往台灣」至今缺席</td>\n",
       "    </tr>\n",
       "    <tr>\n",
       "      <td>2</td>\n",
       "      <td>2019/12/11 11:08</td>\n",
       "      <td>地方</td>\n",
       "      <td>長照一條龍！家中老人生病免擔憂　出院到回家服務接軌無死角</td>\n",
       "    </tr>\n",
       "    <tr>\n",
       "      <td>3</td>\n",
       "      <td>2019/12/11 11:07</td>\n",
       "      <td>3C家電</td>\n",
       "      <td>iPhone 11系列用戶回報GPS應用程式出問題　Strava工程師說是蘋果的問題</td>\n",
       "    </tr>\n",
       "    <tr>\n",
       "      <td>4</td>\n",
       "      <td>2019/12/11 11:05</td>\n",
       "      <td>生活</td>\n",
       "      <td>時間記好！「澎湖、金門」第2波春節加班機來了　12/17統一開賣</td>\n",
       "    </tr>\n",
       "  </tbody>\n",
       "</table>\n",
       "</div>"
      ],
      "text/plain": [
       "               Time   Tag                                            Title\n",
       "0  2019/12/11 11:08    影劇  白藝潾掰了JYP後首出輯橫掃榜單！　「《SQUARE》創韓樂史第一人紀錄」坦承：需要很大的勇氣\n",
       "1  2019/12/11 11:08    大陸                      反送中首宗暴動罪明年初開審　2嫌犯「逃往台灣」至今缺席\n",
       "2  2019/12/11 11:08    地方                     長照一條龍！家中老人生病免擔憂　出院到回家服務接軌無死角\n",
       "3  2019/12/11 11:07  3C家電       iPhone 11系列用戶回報GPS應用程式出問題　Strava工程師說是蘋果的問題\n",
       "4  2019/12/11 11:05    生活                 時間記好！「澎湖、金門」第2波春節加班機來了　12/17統一開賣"
      ]
     },
     "execution_count": 3,
     "metadata": {},
     "output_type": "execute_result"
    }
   ],
   "source": [
    "'''\n",
    "Your Code\n",
    "'''\n",
    "\n",
    "time = []\n",
    "tag = []\n",
    "title = []\n",
    "\n",
    "for d in soup.find(class_='part_list_2').find_all('h3'):\n",
    "    result = re.search(pattern, d.find(class_='date').text)\n",
    "    if result:\n",
    "        time.append(d.find(class_='date').text)\n",
    "        tag.append(d.find_all('em')[-1].text)\n",
    "        title.append(d.find_all('a')[-1].text)\n",
    "\n",
    "posts = pd.DataFrame(list(zip(time, tag, title)), columns=['Time', 'Tag', 'Title'])\n",
    "posts.head()"
   ]
  },
  {
   "cell_type": "markdown",
   "metadata": {},
   "source": [
    "### ③ 哪一個類別的文章最多"
   ]
  },
  {
   "cell_type": "code",
   "execution_count": 4,
   "metadata": {
    "scrolled": true
   },
   "outputs": [
    {
     "data": {
      "text/plain": [
       "'體育'"
      ]
     },
     "execution_count": 4,
     "metadata": {},
     "output_type": "execute_result"
    }
   ],
   "source": [
    "'''\n",
    "Your Code\n",
    "'''\n",
    "posts.Tag.max()"
   ]
  }
 ],
 "metadata": {
  "kernelspec": {
   "display_name": "Python 3",
   "language": "python",
   "name": "python3"
  },
  "language_info": {
   "codemirror_mode": {
    "name": "ipython",
    "version": 3
   },
   "file_extension": ".py",
   "mimetype": "text/x-python",
   "name": "python",
   "nbconvert_exporter": "python",
   "pygments_lexer": "ipython3",
   "version": "3.7.4"
  }
 },
 "nbformat": 4,
 "nbformat_minor": 2
}
