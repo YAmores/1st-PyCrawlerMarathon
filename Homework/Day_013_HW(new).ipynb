{
 "cells": [
  {
   "cell_type": "markdown",
   "metadata": {},
   "source": [
    "# PTT 網路爬蟲實作練習\n",
    "\n",
    "\n",
    "* 能夠利用 Request + BeatifulSour 撰寫爬蟲，並存放到合適的資料結構\n"
   ]
  },
  {
   "cell_type": "markdown",
   "metadata": {},
   "source": [
    "## 作業目標\n",
    "\n",
    "根據範例 ，完成以下問題：\n",
    "\n",
    "* ① 印出最新文章的「作者」「標題」「時間」\n",
    "* ② 印出第一頁所有文章的「作者」「標題」「時間」\n"
   ]
  },
  {
   "cell_type": "markdown",
   "metadata": {},
   "source": [
    "### ① 印出最新文章的「作者」「標題」「時間」"
   ]
  },
  {
   "cell_type": "code",
   "execution_count": 12,
   "metadata": {},
   "outputs": [
    {
     "name": "stdout",
     "output_type": "stream",
     "text": [
      "[花邊] Curry 2020-21球季新球衣試著\n",
      "作者: ogre887 (不良犬)\n",
      "時間: Tue Nov  3 16:43:57 2020\n",
      "[討論] Curry 19-20傷勢如何呢?\n",
      "作者: CarisLeVert (Caris)\n",
      "時間: Tue Nov  3 18:07:07 2020\n",
      "Re: [討論] Curry 19-20傷勢如何呢?\n",
      "作者: mjuan (kiwi)\n",
      "時間: Tue Nov  3 19:39:05 2020\n",
      "[情報] 24年前的今天   Kobe生涯初登場\n",
      "作者: thnlkj0665 (灰色地帶)\n",
      "時間: Tue Nov  3 21:15:08 2020\n",
      "[情報] ROSS:賽爾提克對頭號染疫者Gobert感興趣\n",
      "作者: fliesa (fliesa)\n",
      "時間: Tue Nov  3 21:48:32 2020\n",
      "(本文已被刪除) [JeremyKSKGA]\n",
      "[公告] 板規v6.8\n",
      "[公告] 第一次被退文，可在三天後刪除退文\n",
      "作者: Vedan (味丹)\n",
      "時間: Mon Mar  9 11:44:26 2020\n",
      "[情報] Playoffs Schedule 19–20\n",
      "作者: Acetoxy (阿斯)\n",
      "時間: Tue Aug 18 04:10:40 2020\n",
      "[公告] 季後賽條款於10/14零時解除\n",
      "作者: namie810303 (爽喔!! 你看看你)\n",
      "時間: Tue Oct 13 22:39:02 2020\n"
     ]
    }
   ],
   "source": [
    "import requests\n",
    "from bs4 import BeautifulSoup\n",
    "\n",
    "url = 'https://www.ptt.cc/bbs/NBA/index.html'\n",
    "r = requests.get(url)\n",
    "\n",
    "soup = BeautifulSoup(r.text, \"html5lib\")\n",
    "\n",
    "for d in soup.find_all(class_=\"title\"):\n",
    "    print(d.text.replace('\\t', '').replace('\\n', ''))\n",
    "    try:\n",
    "        r = BeautifulSoup(requests.get('https://www.ptt.cc'+d.find('a')['href']).text, \"html5lib\")\n",
    "        print('作者: ' + r.find_all(class_='article-meta-value')[0].text)\n",
    "        print('時間: ' + r.find_all(class_='article-meta-value')[-1].text)\n",
    "    except:\n",
    "        continue"
   ]
  },
  {
   "cell_type": "markdown",
   "metadata": {},
   "source": [
    "### ② 印出第一頁所有文章的「作者」「標題」「時間」"
   ]
  },
  {
   "cell_type": "code",
   "execution_count": 13,
   "metadata": {},
   "outputs": [
    {
     "name": "stdout",
     "output_type": "stream",
     "text": [
      "[轉錄]Lyotard 對於太陽板討論串的結論\n",
      "作者: Price (Price)\n",
      "時間: Sun May 16 01:54:33 2004\n",
      "[公告] 請停止一切關於本次活動的發言\n",
      "作者: Price (Price)\n",
      "時間: Mon May 24 00:43:00 2004\n",
      "[轉錄]跟之前那篇比起來 我覺得這篇也應該轉過來\n",
      "作者: Frankaze (神采風華)\n",
      "時間: Tue Jun  8 01:16:45 2004\n",
      "[轉錄]再轉一篇好文來\n",
      "作者: Frankaze (神采風華)\n",
      "時間: Tue Jun  8 09:02:23 2004\n",
      "[轉錄][情報] 夏洛特山貓系列\n",
      "作者: Price (Price)\n",
      "時間: Thu Jun 10 00:39:35 2004\n",
      "[轉錄]Re: [心得] 真是受不了糗爺....\n",
      "作者: Price (Price)\n",
      "時間: Thu Jun 10 00:51:35 2004\n",
      "[轉錄]總冠軍賽NO.2觀後感\n",
      "作者: Price (Price)\n",
      "時間: Thu Jun 10 12:05:07 2004\n",
      "[心得] Rasheed Wallace\n",
      "作者: AmuroNamie (原來太嗨真的會失眠^___^)\n",
      "時間: Fri Jun 11 15:06:09 2004\n",
      "掌控球賽的男人\n",
      "作者: toptree (  )\n",
      "時間: Sat Jun 12 07:13:04 2004\n",
      "[閒聊] 說說2004季後賽名場面回顧\n",
      "作者: skchang (3EB板開板囉！)\n",
      "時間: Sat Jun 12 13:21:49 2004\n",
      "[心得] 其實說穿了 就是活塞的防守太可怕了\n",
      "作者: shineup ()\n",
      "時間: Sat Jun 12 13:12:47 2004\n",
      "Re: [閒聊] 說說2004季後賽名場面回顧\n",
      "作者: cOvi (喵~)\n",
      "時間: Sat Jun 12 16:43:07 2004\n",
      "Re: [閒聊] 說說2004季後賽名場面回顧\n",
      "作者: ykshih (￼N￼Ns)\n",
      "時間: Sat Jun 12 17:26:37 2004\n",
      "Re: [閒聊] 說說2004季後賽名場面回顧\n",
      "作者: Frankaze (神采風華)\n",
      "時間: Sat Jun 12 18:34:46 2004\n",
      "[轉錄]Re: 總冠軍賽NO.3觀後感\n",
      "作者: Price (Price)\n",
      "時間: Mon Jun 14 02:18:52 2004\n",
      "[轉錄]Re: 總冠軍賽NO.3觀後感\n",
      "作者: Frankaze (神采風華)\n",
      "時間: Mon Jun 14 02:34:33 2004\n",
      "Re: [轉錄]Re: 總冠軍賽NO.3觀後感\n",
      "作者: star1 (第一次魔術表演不算成功)\n",
      "時間: Mon Jun 14 07:16:30 2004\n",
      "Re: [轉錄]Re: 總冠軍賽NO.3觀後感\n",
      "作者: coldspring (笑笑)\n",
      "時間: Mon Jun 14 09:24:57 2004\n",
      "Re: Kobe is frustrated...\n",
      "作者: airbear (地圖)\n",
      "時間: Mon Jun 14 12:56:14 2004\n",
      "Re: [轉錄]Re: 總冠軍賽NO.3觀後感\n",
      "作者: pennykidd (andre)\n",
      "時間: Mon Jun 14 22:07:01 2004\n"
     ]
    }
   ],
   "source": [
    "import requests\n",
    "from bs4 import BeautifulSoup\n",
    "\n",
    "url = 'https://www.ptt.cc/bbs/NBA/index1.html'\n",
    "r = requests.get(url)\n",
    "\n",
    "soup = BeautifulSoup(r.text, \"html5lib\")\n",
    "\n",
    "for d in soup.find_all(class_=\"title\"):\n",
    "    print(d.text.replace('\\t', '').replace('\\n', ''))\n",
    "    try:\n",
    "        r = BeautifulSoup(requests.get('https://www.ptt.cc'+d.find('a')['href']).text, \"html5lib\")\n",
    "        print('作者: ' + r.find_all(class_='article-meta-value')[0].text)\n",
    "        print('時間: ' + r.find_all(class_='article-meta-value')[-1].text)\n",
    "    except:\n",
    "        continue"
   ]
  },
  {
   "cell_type": "markdown",
   "metadata": {},
   "source": [
    "### ③ 試著爬爬看其他版的文章"
   ]
  },
  {
   "cell_type": "code",
   "execution_count": 14,
   "metadata": {},
   "outputs": [
    {
     "name": "stdout",
     "output_type": "stream",
     "text": [
      "[新聞] 中國加強對澳洲貿易限制 暫停進口木材大\n",
      "作者: CavendishJr (真禮梅西姐姐♡)\n",
      "時間: Tue Nov  3 21:19:02 2020\n",
      "[請益] 怎麼分辨是不是看漲說漲看跌說跌\n",
      "作者: henry90319 (d32monk)\n",
      "時間: Tue Nov  3 21:21:52 2020\n",
      "Re: [新聞] 尷尬！東洋上月才風光取得BNT新冠疫苗代\n",
      "作者: dodobaho (dodo)\n",
      "時間: Tue Nov  3 21:27:34 2020\n",
      "Re: [請益] 如何改善賺了蠅頭小利就想跑的狀況？\n",
      "作者: CGDGAD ((CGDGAD))\n",
      "時間: Tue Nov  3 21:30:26 2020\n",
      "[請益] 0050  0056適不適合懶人投資阿\n",
      "作者: LaWell (信.望.愛)\n",
      "時間: Tue Nov  3 21:50:20 2020\n",
      "[新聞] 中共五大國有銀行淨利潤和壞帳持續惡化\n",
      "作者: Su22 (裝配匠)\n",
      "時間: Tue Nov  3 22:00:26 2020\n",
      "[新聞] 花王烏龍重現?安碁資訊獲利報喜股價收黑\n",
      "作者: qwa317 (無)\n",
      "時間: Tue Nov  3 22:02:22 2020\n",
      "Re: [新聞] 關於暫緩螞蟻上市\n",
      "作者: punk70286 (Kingsman)\n",
      "時間: Tue Nov  3 22:06:10 2020\n",
      "Re: [新聞] 關於暫緩螞蟻上市\n",
      "作者: H2 (超級噴火龍X)\n",
      "時間: Tue Nov  3 22:13:21 2020\n",
      "[新聞] 台灣東洋BNT疫苗合作破局 莊人祥親揭原因\n",
      "作者: mOoOm ( Simon)\n",
      "時間: Tue Nov  3 22:18:55 2020\n",
      "Re: [新聞] 台灣東洋BNT疫苗合作破局 莊人祥親揭原因\n",
      "作者: nissangtr (裵柱現的老公)\n",
      "時間: Tue Nov  3 22:26:34 2020\n",
      "[公告] Stock 板規V2.7\n",
      "[公告] 股板十一月徵文活動 我的操盤工具箱\n",
      "作者: yoche2000 (壽司 不是版是板啦乾)\n",
      "時間: Sat Oct 24 22:44:14 2020\n",
      "[情報] 十一月除權息法說會行事曆 (每日更新)\n",
      "[公告] Stock 板 開始舉辦樂透!\n",
      "作者: yoche2000\n",
      "時間: Mon Nov  2 14:27:10 2020\n",
      "[閒聊] 2020/11/03 盤後閒聊\n",
      "作者: LECOQNIKO (克拉克)\n",
      "時間: Tue Nov  3 14:00:00 2020\n"
     ]
    }
   ],
   "source": [
    "import requests\n",
    "from bs4 import BeautifulSoup\n",
    "\n",
    "url = 'https://www.ptt.cc/bbs/Stock/index.html'\n",
    "r = requests.get(url)\n",
    "\n",
    "soup = BeautifulSoup(r.text, \"html5lib\")\n",
    "\n",
    "for d in soup.find_all(class_=\"title\"):\n",
    "    print(d.text.replace('\\t', '').replace('\\n', ''))\n",
    "    try:\n",
    "        r = BeautifulSoup(requests.get('https://www.ptt.cc'+d.find('a')['href']).text, \"html5lib\")\n",
    "        print('作者: ' + r.find_all(class_='article-meta-value')[0].text)\n",
    "        print('時間: ' + r.find_all(class_='article-meta-value')[-1].text)\n",
    "    except:\n",
    "        continue"
   ]
  },
  {
   "cell_type": "code",
   "execution_count": null,
   "metadata": {},
   "outputs": [],
   "source": []
  }
 ],
 "metadata": {
  "kernelspec": {
   "display_name": "Python 3",
   "language": "python",
   "name": "python3"
  },
  "language_info": {
   "codemirror_mode": {
    "name": "ipython",
    "version": 3
   },
   "file_extension": ".py",
   "mimetype": "text/x-python",
   "name": "python",
   "nbconvert_exporter": "python",
   "pygments_lexer": "ipython3",
   "version": "3.7.4"
  }
 },
 "nbformat": 4,
 "nbformat_minor": 2
}
